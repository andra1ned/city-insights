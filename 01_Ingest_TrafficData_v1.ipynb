{
 "cells": [
  {
   "cell_type": "code",
   "execution_count": 0,
   "metadata": {
    "application/vnd.databricks.v1+cell": {
     "cellMetadata": {
      "byteLimit": 2048000,
      "rowLimit": 10000
     },
     "inputWidgets": {},
     "nuid": "659c8f2c-729a-4d77-9094-ef6c4e028549",
     "showTitle": false,
     "tableResultSettingsMap": {},
     "title": ""
    }
   },
   "outputs": [],
   "source": [
    "from pyspark.sql.types import StructType, StructField, StringType, IntegerType, TimestampType\n",
    "from pyspark.sql.functions import col, window, avg\n",
    "\n",
    "# define the schema for traffic JSON files\n",
    "traffic_schema = StructType([\n",
    "    StructField(\"city\", StringType()),\n",
    "    StructField(\"road\", StringType()),\n",
    "    StructField(\"speed\", IntegerType()),\n",
    "    StructField(\"congestion\", IntegerType()),\n",
    "    StructField(\"timestamp\", TimestampType())\n",
    "])\n",
    "\n",
    "# set the path to Volume\n",
    "input_path = \"/Volumes/main/city_insights/input_traffic/\"\n",
    "\n",
    "# read streaming data from the JSON files in the Volume\n",
    "traffic_stream = (\n",
    "    spark.readStream\n",
    "    .schema(traffic_schema)\n",
    "    .option(\"maxFilesPerTrigger\", 1)  # Useful for demo/testing; adjust as needed\n",
    "    .json(input_path)\n",
    ")\n",
    "\n",
    "# process/aggregate\n",
    "agg_traffic = (\n",
    "    traffic_stream\n",
    "    .groupBy(\n",
    "        window(col(\"timestamp\"), \"5 minutes\"),\n",
    "        col(\"city\")\n",
    "    )\n",
    "    .agg(\n",
    "        avg(\"speed\").alias(\"avg_speed\"),\n",
    "        avg(\"congestion\").alias(\"avg_congestion\")\n",
    "    )\n",
    ")\n",
    "\n",
    "agg_traffic.dataType\n",
    "\n",
    "# write to a Unity Catalog Delta table (or another location)\n",
    "output_table = \"city_insights.traffic_agg\"\n",
    "checkpoint_path = \"/Volumes/city_insights/traffic_agg_from_file\"\n",
    "\n",
    "agg_traffic.writeStream \\\n",
    "    .format(\"delta\") \\\n",
    "    .outputMode(\"append\") \\\n",
    "    .option(\"checkpointLocation\", checkpoint_path) \\\n",
    "    .toTable(output_table)\n",
    "\n",
    "# Step 6: For live monitoring, in another cell use:\n",
    "# display(spark.table(output_table))\n"
   ]
  }
 ],
 "metadata": {
  "application/vnd.databricks.v1+notebook": {
   "computePreferences": null,
   "dashboards": [],
   "environmentMetadata": {
    "base_environment": "",
    "environment_version": "2"
   },
   "inputWidgetPreferences": null,
   "language": "python",
   "notebookMetadata": {
    "pythonIndentUnit": 4
   },
   "notebookName": "01_Ingest_TrafficData_v1",
   "widgets": {}
  },
  "language_info": {
   "name": "python"
  }
 },
 "nbformat": 4,
 "nbformat_minor": 0
}
