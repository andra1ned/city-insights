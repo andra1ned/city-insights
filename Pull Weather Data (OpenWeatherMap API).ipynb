{
 "cells": [
  {
   "cell_type": "code",
   "execution_count": 0,
   "metadata": {
    "application/vnd.databricks.v1+cell": {
     "cellMetadata": {
      "byteLimit": 2048000,
      "rowLimit": 10000
     },
     "inputWidgets": {},
     "nuid": "acf0c31a-e5b8-4fbe-8a18-32196a825043",
     "showTitle": false,
     "tableResultSettingsMap": {},
     "title": ""
    }
   },
   "outputs": [],
   "source": [
    "# COMMAND 1: Imports & Config\n",
    "import requests\n",
    "from pyspark.sql.functions import col, from_unixtime\n",
    "import pandas as pd\n",
    "\n",
    "API_KEY = \"dbc2b01aec99b8736db5b03272821b0a\"\n",
    "CITY    = \"Bucharest\"\n",
    "URL     = (f\"https://api.openweathermap.org/data/2.5/weather?q={CITY}&appid={API_KEY}&units=metric\")\n",
    "\n",
    "# fetch & create DataFrame\n",
    "resp       = requests.get(URL)\n",
    "pdf        = pd.json_normalize(resp.json())\n",
    "weather_df = spark.createDataFrame(pdf)\n",
    "\n",
    "print(\"API status:\", resp.status_code)\n",
    "print(\"API data:\", data)\n",
    "print(\"API cod type:\", type(data.get('cod')), \"value:\", data.get('cod'))\n",
    "\n",
    "# register for SQL\n",
    "weather_df.createOrReplaceTempView(\"weather_tmp\")\n",
    "\n",
    "\n",
    "# write raw JSON into Volume\n",
    "(\n",
    "    weather_df.write\n",
    "      .format(\"delta\")\n",
    "      .mode(\"append\")\n",
    "      .save(\"/Volumes/city_catalog/insights/raw_volume\")\n",
    ")\n",
    "\n",
    "# clean & write to Clean Volume\n",
    "clean_df = weather_df.select(\n",
    "    col(\"name\").alias(\"city\"),\n",
    "    col(\"`main.temp`\" ).alias(\"temperature\"),\n",
    "    col(\"`main.humidity`\").alias(\"humidity\"),\n",
    "    from_unixtime(col(\"dt\")).alias(\"timestamp\")\n",
    ")\n",
    "(\n",
    "    clean_df.write\n",
    "      .format(\"delta\")\n",
    "      .mode(\"append\")\n",
    "      .save(\"/Volumes/city_catalog/insights/clean_volume\")\n",
    ")\n"
   ]
  },
  {
   "cell_type": "code",
   "execution_count": 0,
   "metadata": {
    "application/vnd.databricks.v1+cell": {
     "cellMetadata": {
      "byteLimit": 2048000,
      "rowLimit": 10000
     },
     "inputWidgets": {},
     "nuid": "86e236bc-3de3-4083-9f6d-e1083d52f755",
     "showTitle": false,
     "tableResultSettingsMap": {},
     "title": ""
    }
   },
   "outputs": [],
   "source": [
    "df = spark.read.format(\"delta\").load(\"/Volumes/city_catalog/insights/raw_volume\")\n",
    "df.display()  # or df.show()"
   ]
  }
 ],
 "metadata": {
  "application/vnd.databricks.v1+notebook": {
   "computePreferences": null,
   "dashboards": [],
   "environmentMetadata": {
    "base_environment": "",
    "environment_version": "2"
   },
   "inputWidgetPreferences": null,
   "language": "python",
   "notebookMetadata": {
    "mostRecentlyExecutedCommandWithImplicitDF": {
     "commandId": 8793546896104748,
     "dataframes": [
      "_sqldf"
     ]
    },
    "pythonIndentUnit": 4
   },
   "notebookName": "Pull Weather Data (OpenWeatherMap API)",
   "widgets": {}
  },
  "language_info": {
   "name": "python"
  }
 },
 "nbformat": 4,
 "nbformat_minor": 0
}
